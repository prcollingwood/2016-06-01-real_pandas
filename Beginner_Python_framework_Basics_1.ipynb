{
 "cells": [
  {
   "cell_type": "markdown",
   "metadata": {},
   "source": [
    "# Where are we?"
   ]
  },
  {
   "cell_type": "markdown",
   "metadata": {},
   "source": [
    "http://nbviewer.jupyter.org/github/kikocorreoso/PyConES14_talk-Hacking_the_Notebook/tree/master/notebooks/"
   ]
  },
  {
   "cell_type": "markdown",
   "metadata": {},
   "source": [
    "# The Jupyter Notebook"
   ]
  },
  {
   "cell_type": "markdown",
   "metadata": {},
   "source": [
    "### A web browser interface for the Python language"
   ]
  },
  {
   "cell_type": "markdown",
   "metadata": {},
   "source": [
    "- A rich multimedia environment.\n",
    "- The display and the interpreter are seperate.\n",
    "- Ideal for science/research, just like a lab book."
   ]
  },
  {
   "cell_type": "markdown",
   "metadata": {},
   "source": [
    "#### Some shortcuts\n",
    "\n",
    "  keys |  action       |  mode\n",
    ":-----:|:-------------:|:-----:\n",
    "`esc`  | blue surround | command\n",
    "`return`| green surround | edit\n",
    "**h**    | show help| command\n",
    "**b** | cell below | command\n",
    "**a** | cell above | command\n",
    "**x** | cell delete | command\n",
    "**m** | markdown | command\n",
    "**y** | code cell | command\n",
    "**n** | line numbers | command\n",
    "`[ & ]`|move block | edit"
   ]
  },
  {
   "cell_type": "markdown",
   "metadata": {},
   "source": [
    "### Style counts"
   ]
  },
  {
   "cell_type": "code",
   "execution_count": 1,
   "metadata": {
    "collapsed": false
   },
   "outputs": [
    {
     "data": {
      "text/html": [
       "<style>body {\n",
       "    margin: 0;\n",
       "    font-family: Helvetica;\n",
       "}\n",
       "table.dataframe {\n",
       "    border-collapse: collapse;\n",
       "    border: none;\n",
       "}\n",
       "table.dataframe tr {\n",
       "    border: none;\n",
       "}\n",
       "table.dataframe td, table.dataframe th {\n",
       "    margin: 0;\n",
       "    border: 1px solid white;\n",
       "    padding-left: 0.25em;\n",
       "    padding-right: 0.25em;\n",
       "}\n",
       "table.dataframe th:not(:empty) {\n",
       "    background-color: #fec;\n",
       "    text-align: left;\n",
       "    font-weight: normal;\n",
       "}\n",
       "table.dataframe tr:nth-child(2) th:empty {\n",
       "    border-left: none;\n",
       "    border-right: 1px dashed #888;\n",
       "}\n",
       "table.dataframe td {\n",
       "    border: 2px solid #ccf;\n",
       "    background-color: #f4f4ff;\n",
       "}\n",
       "h3 {\n",
       "    color: white;\n",
       "    background-color: black;\n",
       "    padding: 0.5em;\n",
       "}\n",
       "</style>"
      ],
      "text/plain": [
       "<IPython.core.display.HTML object>"
      ]
     },
     "execution_count": 1,
     "metadata": {},
     "output_type": "execute_result"
    }
   ],
   "source": [
    "from IPython.core.display import HTML, Image\n",
    "css = open('style/style-table.css').read() + open('style/style-notebook.css').read()\n",
    "HTML('<style>{}</style>'.format(css))"
   ]
  },
  {
   "cell_type": "code",
   "execution_count": 2,
   "metadata": {
    "collapsed": false
   },
   "outputs": [
    {
     "data": {
      "text/html": [
       "<img src=\"http://katrinarasbold.com/wp-content/uploads/2013/03/Jacob.jpg\"/>"
      ],
      "text/plain": [
       "<IPython.core.display.Image object>"
      ]
     },
     "execution_count": 2,
     "metadata": {},
     "output_type": "execute_result"
    }
   ],
   "source": [
    "from IPython.core.display import Image\n",
    "Image(url= 'http://katrinarasbold.com/wp-content/uploads/2013/03/Jacob.jpg')"
   ]
  },
  {
   "cell_type": "markdown",
   "metadata": {},
   "source": [
    "# Solid Ground"
   ]
  },
  {
   "cell_type": "code",
   "execution_count": null,
   "metadata": {
    "collapsed": true
   },
   "outputs": [],
   "source": [
    "x = 0b1111111111111111111111111111110"
   ]
  },
  {
   "cell_type": "code",
   "execution_count": null,
   "metadata": {
    "collapsed": false
   },
   "outputs": [],
   "source": [
    "y = 0b0000000000000000000000000000001"
   ]
  },
  {
   "cell_type": "code",
   "execution_count": null,
   "metadata": {
    "collapsed": false
   },
   "outputs": [],
   "source": [
    "bin(x + y)"
   ]
  },
  {
   "cell_type": "markdown",
   "metadata": {},
   "source": [
    "### Math Operators from Highest to Lowest Precedence"
   ]
  },
  {
   "cell_type": "markdown",
   "metadata": {},
   "source": [
    "operator|example|evaluates to...\n",
    ":-----:|:------:|:------:\n",
    "** | 2 ** 3 | 8\n",
    "% | 22 % 8 | 6\n",
    "// | 22 // 8 | 2\n",
    "/ | 22 / 8 | 2.75\n",
    "* | 3 * 5 | 15\n",
    "- | 5 - 2 | 3\n",
    "+ | 2 + 2 | 4"
   ]
  },
  {
   "cell_type": "markdown",
   "metadata": {},
   "source": [
    "### Basic io"
   ]
  },
  {
   "cell_type": "code",
   "execution_count": null,
   "metadata": {
    "collapsed": false
   },
   "outputs": [],
   "source": [
    "print()"
   ]
  },
  {
   "cell_type": "code",
   "execution_count": null,
   "metadata": {
    "collapsed": false
   },
   "outputs": [],
   "source": [
    "input()"
   ]
  },
  {
   "cell_type": "code",
   "execution_count": null,
   "metadata": {
    "collapsed": true
   },
   "outputs": [],
   "source": [
    "len()"
   ]
  },
  {
   "cell_type": "markdown",
   "metadata": {},
   "source": [
    "### The Integer, Floating-Point, and String Data Types"
   ]
  },
  {
   "cell_type": "code",
   "execution_count": null,
   "metadata": {
    "collapsed": true
   },
   "outputs": [],
   "source": [
    "type()"
   ]
  },
  {
   "cell_type": "code",
   "execution_count": null,
   "metadata": {
    "collapsed": true
   },
   "outputs": [],
   "source": [
    "int()"
   ]
  },
  {
   "cell_type": "code",
   "execution_count": null,
   "metadata": {
    "collapsed": true
   },
   "outputs": [],
   "source": [
    "float() "
   ]
  },
  {
   "cell_type": "code",
   "execution_count": null,
   "metadata": {
    "collapsed": true
   },
   "outputs": [],
   "source": [
    "str()"
   ]
  },
  {
   "cell_type": "markdown",
   "metadata": {},
   "source": [
    "<p>One way to remember how slices work is to think of the indices as pointing\n",
    "<em>between</em> characters, with the left edge of the first character numbered 0.\n",
    "Then the right edge of the last character of a string of <em>n</em> characters has\n",
    "index <em>n</em>, for example:</p>\n",
    "<div class=\"highlight-python3\"><div class=\"highlight\"><pre><span></span> <span class=\"o\">+---+---+---+---+---+---+</span>\n",
    " <span class=\"o\">|</span> <span class=\"n\">P</span> <span class=\"o\">|</span> <span class=\"n\">y</span> <span class=\"o\">|</span> <span class=\"n\">t</span> <span class=\"o\">|</span> <span class=\"n\">h</span> <span class=\"o\">|</span> <span class=\"n\">o</span> <span class=\"o\">|</span> <span class=\"n\">n</span> <span class=\"o\">|</span>\n",
    " <span class=\"o\">+---+---+---+---+---+---+</span>\n",
    " <span class=\"mi\">0</span>   <span class=\"mi\">1</span>   <span class=\"mi\">2</span>   <span class=\"mi\">3</span>   <span class=\"mi\">4</span>   <span class=\"mi\">5</span>   <span class=\"mi\">6</span>\n",
    "<span class=\"o\">-</span><span class=\"mi\">6</span>  <span class=\"o\">-</span><span class=\"mi\">5</span>  <span class=\"o\">-</span><span class=\"mi\">4</span>  <span class=\"o\">-</span><span class=\"mi\">3</span>  <span class=\"o\">-</span><span class=\"mi\">2</span>  <span class=\"o\">-</span><span class=\"mi\">1</span>\n",
    "</pre></div>\n",
    "</div>"
   ]
  },
  {
   "cell_type": "markdown",
   "metadata": {},
   "source": [
    "[The programming World](Beginner_Python_framework_Basics-Copy1.ipynb)"
   ]
  },
  {
   "cell_type": "code",
   "execution_count": null,
   "metadata": {
    "collapsed": true
   },
   "outputs": [],
   "source": []
  },
  {
   "cell_type": "code",
   "execution_count": 3,
   "metadata": {
    "collapsed": false
   },
   "outputs": [
    {
     "data": {
      "text/html": [
       "<a href='Beginner_Python_framework_Basics_2.ipynb' target='_blank'>Beginner_Python_framework_Basics_2.ipynb</a><br>"
      ],
      "text/plain": [
       "/home/researcher/2016-06-01-real_pandas/Beginner_Python_framework_Basics_2.ipynb"
      ]
     },
     "execution_count": 3,
     "metadata": {},
     "output_type": "execute_result"
    }
   ],
   "source": [
    "from IPython.display import FileLink\n",
    "FileLink('Beginner_Python_framework_Basics_2.ipynb')"
   ]
  },
  {
   "cell_type": "code",
   "execution_count": null,
   "metadata": {
    "collapsed": true
   },
   "outputs": [],
   "source": []
  }
 ],
 "metadata": {
  "kernelspec": {
   "display_name": "Python 3",
   "language": "python",
   "name": "python3"
  },
  "language_info": {
   "codemirror_mode": {
    "name": "ipython",
    "version": 3
   },
   "file_extension": ".py",
   "mimetype": "text/x-python",
   "name": "python",
   "nbconvert_exporter": "python",
   "pygments_lexer": "ipython3",
   "version": "3.4.3"
  }
 },
 "nbformat": 4,
 "nbformat_minor": 0
}
