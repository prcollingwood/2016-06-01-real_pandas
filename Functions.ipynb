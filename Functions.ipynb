{
 "cells": [
  {
   "cell_type": "code",
   "execution_count": 13,
   "metadata": {
    "collapsed": false
   },
   "outputs": [
    {
     "data": {
      "text/plain": [
       "{'area of research': 'Library Systems Administrator',\n",
       " 'coffee': 'decaf soy flat white',\n",
       " 'comment': 'I am learning data analysis',\n",
       " 'date_of_workshop': {'end_date': '2016-06-09', 'start_date': '2016-06-08'},\n",
       " 'email': 'petrina.collingwood@unimelb.edu.au',\n",
       " 'institution': 'University of Melbourne',\n",
       " 'name': 'Petrina Collingwood',\n",
       " 'pet_name': ['Naboo', 'Moby']}"
      ]
     },
     "execution_count": 13,
     "metadata": {},
     "output_type": "execute_result"
    }
   ],
   "source": [
    "petrina_collingwood = {}\n",
    "petrina_collingwood['area of research'] = 'Library Systems Administrator'\n",
    "petrina_collingwood['coffee'] = 'decaf soy flat white'\n",
    "petrina_collingwood['date_of_workshop'] = {'start_date':'2016-06-08','end_date':'2016-06-09'}\n",
    "petrina_collingwood['institution'] = 'University of Melbourne'\n",
    "petrina_collingwood['name'] = 'Petrina Collingwood'\n",
    "petrina_collingwood['pet_name'] = ['Naboo','Moby']\n",
    "petrina_collingwood['comment'] = 'I like python'\n",
    "petrina_collingwood['email'] = 'petrina.collingwood@unimelb.edu.au'\n",
    "petrina_collingwood"
   ]
  },
  {
   "cell_type": "code",
   "execution_count": 14,
   "metadata": {
    "collapsed": false
   },
   "outputs": [
    {
     "data": {
      "text/plain": [
       "'2016-06-08'"
      ]
     },
     "execution_count": 14,
     "metadata": {},
     "output_type": "execute_result"
    }
   ],
   "source": [
    "petrina_collingwood['date_of_workshop']['start_date']"
   ]
  },
  {
   "cell_type": "code",
   "execution_count": 40,
   "metadata": {
    "collapsed": false
   },
   "outputs": [
    {
     "data": {
      "text/plain": [
       "1001"
      ]
     },
     "execution_count": 40,
     "metadata": {},
     "output_type": "execute_result"
    }
   ],
   "source": [
    "comment = 'tr' * 500 + 'w'\n",
    "len(comment)"
   ]
  },
  {
   "cell_type": "code",
   "execution_count": 43,
   "metadata": {
    "collapsed": false
   },
   "outputs": [
    {
     "data": {
      "text/plain": [
       "'trtrtrtrtrtrtrtrtrtrtrtrtrtrtrtrtrtrtrtrtrtrtrtrtrtrtrtrtrtrtrtrtrtrtrtrtrtrtrtrtrtrtrtrtrtrtrtrtrtrtrtrtrtrtrtrtrtrtrtrtrtrtrtrtrtrtrtrtrtrtrtrtrtrtrtrtrtrtrtrtrtrtrtrtrtrtrtrtrtrtrtrtrtrtrtrtrtrtrtr'"
      ]
     },
     "execution_count": 43,
     "metadata": {},
     "output_type": "execute_result"
    }
   ],
   "source": [
    "def shorten(comment):\n",
    "    '''\n",
    "    takes a string, shortens string to 200 characters\n",
    "    returns shortened string\n",
    "    '''\n",
    "    '''\n",
    "    output = comment[0:200]\n",
    "    return output\n",
    "    '''\n",
    "    half_remove_number = (len(comment) - 200)//2\n",
    "    reduced_comment = comment[half_remove_number:-half_remove_number]\n",
    "    if len(reduced_comment)%2 == 1:\n",
    "        reduced_comment = reduced_comment[0:200]\n",
    "    return reduced_comment\n",
    "value = shorten(comment)\n",
    "value\n",
    "\n",
    "def check_length(comment):\n",
    "    '''\n",
    "    takes a string, checks if length is greater than 200.\n",
    "    If it is greater, call shorten function, otherwise do nothing\n",
    "    return comment which may or may not have been modified\n",
    "    '''\n",
    "    if len(comment) > 200:\n",
    "        checked_comment = shorten(comment)\n",
    "    else:\n",
    "        checked_comment = comment\n",
    "    return checked_comment\n",
    "modified_comment = check_length(comment)\n",
    "modified_comment\n"
   ]
  },
  {
   "cell_type": "code",
   "execution_count": 44,
   "metadata": {
    "collapsed": false
   },
   "outputs": [
    {
     "data": {
      "text/plain": [
       "200"
      ]
     },
     "execution_count": 44,
     "metadata": {},
     "output_type": "execute_result"
    }
   ],
   "source": [
    "len(value)"
   ]
  },
  {
   "cell_type": "code",
   "execution_count": null,
   "metadata": {
    "collapsed": true
   },
   "outputs": [],
   "source": []
  }
 ],
 "metadata": {
  "kernelspec": {
   "display_name": "Python 3",
   "language": "python",
   "name": "python3"
  },
  "language_info": {
   "codemirror_mode": {
    "name": "ipython",
    "version": 3
   },
   "file_extension": ".py",
   "mimetype": "text/x-python",
   "name": "python",
   "nbconvert_exporter": "python",
   "pygments_lexer": "ipython3",
   "version": "3.4.3"
  }
 },
 "nbformat": 4,
 "nbformat_minor": 0
}
